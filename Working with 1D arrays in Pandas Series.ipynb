{
  "nbformat": 4,
  "nbformat_minor": 0,
  "metadata": {
    "colab": {
      "provenance": []
    },
    "kernelspec": {
      "name": "python3",
      "display_name": "Python 3"
    },
    "language_info": {
      "name": "python"
    }
  },
  "cells": [
    {
      "cell_type": "markdown",
      "source": [
        "# 🔹 시리즈 생성 원리\n",
        "- 시리즈는 **값(value)** 과 **인덱스(index)** 로 구성된 1차원 구조임\n",
        "- **인덱스 자동 생성**: 지정하지 않으면 0부터 시작하는 정수 인덱스가 부여됨\n",
        "- **사용자 지정 인덱스**: 의미 있는 레이블을 직접 부여 가능 (예: 월 이름)\n",
        "- 중요한 원리: **값은 위치(절대 인덱스)로 접근 가능하며, 동시에 레이블(의미 인덱스)로도 접근 가능**"
      ],
      "metadata": {
        "id": "j-nTSbCIlyzW"
      }
    },
    {
      "cell_type": "code",
      "execution_count": null,
      "metadata": {
        "id": "QuwNEtT1llnJ",
        "colab": {
          "base_uri": "https://localhost:8080/"
        },
        "outputId": "c788ead8-eb1f-4927-a3ac-b6c081c55f0b"
      },
      "outputs": [
        {
          "output_type": "stream",
          "name": "stdout",
          "text": [
            "자동 생성 인덱스:\n",
            " 0     -0.8\n",
            "1     -0.1\n",
            "2      7.7\n",
            "3     13.8\n",
            "4     18.0\n",
            "5     22.4\n",
            "6     25.9\n",
            "7     25.3\n",
            "8     21.0\n",
            "9     14.0\n",
            "10     9.6\n",
            "11    -1.4\n",
            "dtype: float64\n",
            "\n",
            "사용자 지정 인덱스:\n",
            " 1월     -0.8\n",
            "2월     -0.1\n",
            "3월      7.7\n",
            "4월     13.8\n",
            "5월     18.0\n",
            "6월     22.4\n",
            "7월     25.9\n",
            "8월     25.3\n",
            "9월     21.0\n",
            "10월    14.0\n",
            "11월     9.6\n",
            "12월    -1.4\n",
            "dtype: float64\n"
          ]
        }
      ],
      "source": [
        "import pandas as pd\n",
        "\n",
        "# 12개월 평균 기온 데이터 입력\n",
        "temp = pd.Series([-0.8, -0.1, 7.7, 13.8, 18.0, 22.4,\n",
        "                  25.9, 25.3, 21.0, 14.0, 9.6, -1.4])\n",
        "\n",
        "# 자동 생성된 인덱스 확인 (0~11)\n",
        "print(\"자동 생성 인덱스:\\n\", temp)\n",
        "\n",
        "# 월 이름을 레이블 인덱스로 지정\n",
        "temp.index = ['1월','2월','3월','4월','5월','6월',\n",
        "              '7월','8월','9월','10월','11월','12월']\n",
        "\n",
        "print(\"\\n사용자 지정 인덱스:\\n\", temp)"
      ]
    },
    {
      "cell_type": "markdown",
      "source": [
        "# 🔹 시리즈 정보 확인 원리\n",
        "- **size**: 저장된 값의 총 개수  \n",
        "- **shape**: 배열의 구조 (튜플 형태, 시리즈는 항상 `(n,)`)  \n",
        "- **dtype**: 값의 데이터 타입 → 연산 시 처리 방식에 영향  \n",
        "- 원리: 시리즈는 **넘파이 배열(ndarray)의 확장판**이므로, 이러한 속성들을 그대로 가짐"
      ],
      "metadata": {
        "id": "X-WTSR4tl6tG"
      }
    },
    {
      "cell_type": "code",
      "source": [
        "print(\"값의 개수(size):\", temp.size)\n",
        "print(\"배열의 형태(shape):\", temp.shape)\n",
        "print(\"데이터 타입(dtype):\", temp.dtype)"
      ],
      "metadata": {
        "id": "MmUqY0NXl-S2",
        "colab": {
          "base_uri": "https://localhost:8080/"
        },
        "outputId": "342a78d2-c832-4c61-f31a-f3f1a9b5f68d"
      },
      "execution_count": null,
      "outputs": [
        {
          "output_type": "stream",
          "name": "stdout",
          "text": [
            "값의 개수(size): 12\n",
            "배열의 형태(shape): (12,)\n",
            "데이터 타입(dtype): float64\n"
          ]
        }
      ]
    },
    {
      "cell_type": "markdown",
      "source": [
        "# 🔹 인덱싱·슬라이싱 원리\n",
        "- **iloc**: 절대 위치 기반 (정수 인덱스) 접근  \n",
        "- **loc**: 의미 있는 레이블 인덱스 접근  \n",
        "- 슬라이싱: 범위 지정 시 **시작 포함, 끝 제외** (iloc) / **시작~끝 모두 포함** (loc)  \n",
        "- 원리: 하나의 데이터에 대해 **두 가지 좌표 체계(위치 vs 레이블)** 를 동시에 제공"
      ],
      "metadata": {
        "id": "7gn4uYm8mBn3"
      }
    },
    {
      "cell_type": "code",
      "source": [
        "# 절대 위치 기반 접근\n",
        "print(\"iloc[2] (3번째 값):\", temp.iloc[2])\n",
        "\n",
        "# 레이블 기반 접근\n",
        "print(\"loc['3월']:\", temp.loc['3월'])\n",
        "\n",
        "# 여러 개 선택\n",
        "print(\"iloc[[3,5,7]]:\", temp.iloc[[3,5,7]])\n",
        "print(\"loc[['4월','6월','8월']]:\", temp.loc[['4월','6월','8월']])\n",
        "\n",
        "# 범위 지정\n",
        "print(\"iloc[5:8]:\", temp.iloc[5:8])       # 6~8월\n",
        "print(\"loc['6월':'9월']:\", temp.loc['6월':'9월'])  # 6월~9월"
      ],
      "metadata": {
        "id": "Cso1KTogmESm",
        "colab": {
          "base_uri": "https://localhost:8080/"
        },
        "outputId": "27ae7e1f-7029-4b92-dbcb-6bbddf006569"
      },
      "execution_count": null,
      "outputs": [
        {
          "output_type": "stream",
          "name": "stdout",
          "text": [
            "iloc[2] (3번째 값): 7.7\n",
            "loc['3월']: 7.7\n",
            "iloc[[3,5,7]]: 4월    13.8\n",
            "6월    22.4\n",
            "8월    25.3\n",
            "dtype: float64\n",
            "loc[['4월','6월','8월']]: 4월    13.8\n",
            "6월    22.4\n",
            "8월    25.3\n",
            "dtype: float64\n",
            "iloc[5:8]: 6월    22.4\n",
            "7월    25.9\n",
            "8월    25.3\n",
            "dtype: float64\n",
            "loc['6월':'9월']: 6월    22.4\n",
            "7월    25.9\n",
            "8월    25.3\n",
            "9월    21.0\n",
            "dtype: float64\n"
          ]
        }
      ]
    },
    {
      "cell_type": "markdown",
      "source": [
        "# 🔹 조건 검색 원리\n",
        "- 시리즈는 넘파이 배열처럼 **조건식을 그대로 적용** 가능\n",
        "- 조건에 맞는 값만 True/False로 구분 → True인 값만 반환\n",
        "- **where()**: 조건 만족하지 않는 값은 NaN으로 처리 → 필요 시 dropna()로 제거\n",
        "- 원리: **불리언 인덱싱(Boolean Indexing)** 활용"
      ],
      "metadata": {
        "id": "nQq9DkhtmGA0"
      }
    },
    {
      "cell_type": "code",
      "source": [
        "# 조건식 직접 사용\n",
        "print(\"15도 이상인 달:\\n\", temp[temp >= 15])\n",
        "\n",
        "# 조건식 조합 (and = &, or = |)\n",
        "print(\"\\n15~25도 사이:\\n\", temp[(temp >= 15) & (temp < 25)])\n",
        "\n",
        "# where() 활용\n",
        "print(\"\\nwhere() 사용:\\n\", temp.where(temp >= 15))\n",
        "print(\"\\nwhere() + dropna():\\n\", temp.where(temp >= 15).dropna())"
      ],
      "metadata": {
        "id": "CR8ZbQdXmH4X",
        "colab": {
          "base_uri": "https://localhost:8080/"
        },
        "outputId": "bb3baf01-2808-4a55-8c93-4ab55c12abd0"
      },
      "execution_count": null,
      "outputs": [
        {
          "output_type": "stream",
          "name": "stdout",
          "text": [
            "15도 이상인 달:\n",
            " 5월    18.0\n",
            "6월    22.4\n",
            "7월    25.9\n",
            "8월    25.3\n",
            "9월    21.0\n",
            "dtype: float64\n",
            "\n",
            "15~25도 사이:\n",
            " 5월    18.0\n",
            "6월    22.4\n",
            "9월    21.0\n",
            "dtype: float64\n",
            "\n",
            "where() 사용:\n",
            " 1월      NaN\n",
            "2월      NaN\n",
            "3월      NaN\n",
            "4월      NaN\n",
            "5월     18.0\n",
            "6월     22.4\n",
            "7월     25.9\n",
            "8월     25.3\n",
            "9월     21.0\n",
            "10월     NaN\n",
            "11월     NaN\n",
            "12월     NaN\n",
            "dtype: float64\n",
            "\n",
            "where() + dropna():\n",
            " 5월    18.0\n",
            "6월    22.4\n",
            "7월    25.9\n",
            "8월    25.3\n",
            "9월    21.0\n",
            "dtype: float64\n"
          ]
        }
      ]
    },
    {
      "cell_type": "markdown",
      "source": [
        "# 🔹 연산·통계 원리\n",
        "- 시리즈는 **벡터화 연산** 지원 (각 원소에 연산이 자동 적용됨)\n",
        "- 브로드캐스팅: 동일 연산이 전체에 확장 적용\n",
        "- 통계 메서드: 합계, 평균, 최댓값, 표준편차 등 → 데이터 요약 가능"
      ],
      "metadata": {
        "id": "Cfbw56FNmLFH"
      }
    },
    {
      "cell_type": "code",
      "source": [
        "# 연산 예시\n",
        "print(\"모든 값 +1:\\n\", temp + 1)\n",
        "print(\"2 * temp + 0.1:\\n\", 2 * temp + 0.1)\n",
        "\n",
        "# 통계 메서드\n",
        "print(\"합계:\", temp.sum())\n",
        "print(\"평균:\", temp.mean())\n",
        "print(\"표준편차:\", temp.std())\n",
        "print(\"기초 통계 정보:\\n\", temp.describe())"
      ],
      "metadata": {
        "id": "s3f7GmldmMv8",
        "colab": {
          "base_uri": "https://localhost:8080/"
        },
        "outputId": "33296e84-e8cc-49a7-f763-889f06eb5e31"
      },
      "execution_count": null,
      "outputs": [
        {
          "output_type": "stream",
          "name": "stdout",
          "text": [
            "모든 값 +1:\n",
            " 1월      0.2\n",
            "2월      0.9\n",
            "3월      8.7\n",
            "4월     14.8\n",
            "5월     19.0\n",
            "6월     23.4\n",
            "7월     26.9\n",
            "8월     26.3\n",
            "9월     22.0\n",
            "10월    15.0\n",
            "11월    10.6\n",
            "12월    -0.4\n",
            "dtype: float64\n",
            "2 * temp + 0.1:\n",
            " 1월     -1.5\n",
            "2월     -0.1\n",
            "3월     15.5\n",
            "4월     27.7\n",
            "5월     36.1\n",
            "6월     44.9\n",
            "7월     51.9\n",
            "8월     50.7\n",
            "9월     42.1\n",
            "10월    28.1\n",
            "11월    19.3\n",
            "12월    -2.7\n",
            "dtype: float64\n",
            "합계: 155.39999999999998\n",
            "평균: 12.949999999999998\n",
            "표준편차: 10.026011624315478\n",
            "기초 통계 정보:\n",
            " count    12.000000\n",
            "mean     12.950000\n",
            "std      10.026012\n",
            "min      -1.400000\n",
            "25%       5.750000\n",
            "50%      13.900000\n",
            "75%      21.350000\n",
            "max      25.900000\n",
            "dtype: float64\n"
          ]
        }
      ]
    },
    {
      "cell_type": "markdown",
      "source": [
        "# 🔹 수정·추가·삭제 원리\n",
        "- **수정**: 기존 인덱스 지정 → 값 갱신\n",
        "- **추가**: 존재하지 않는 인덱스 지정 → 새로운 값 삽입\n",
        "- **삭제**: drop() 메서드로 특정 인덱스 제거\n",
        "- **복사**: copy()로 독립적 객체 생성 (원본 영향 X)"
      ],
      "metadata": {
        "id": "AMmbuiFEmOwh"
      }
    },
    {
      "cell_type": "code",
      "source": [
        "# 시리즈 생성\n",
        "score = pd.Series([75, 80, 90, 60],\n",
        "                  index=['KOR', 'ENG', 'MATH', 'SOC'])\n",
        "\n",
        "# 값 수정\n",
        "score.loc['ENG'] = 70\n",
        "score.loc['MATH'] = 85\n",
        "\n",
        "# 값 추가\n",
        "score.loc['PHY'] = 50\n",
        "\n",
        "# 값 삭제\n",
        "score = score.drop('SOC')\n",
        "\n",
        "print(\"최종 성적 시리즈:\\n\", score)\n",
        "\n",
        "# 복사\n",
        "score_copy = score.copy()\n",
        "score_copy.loc['KOR'] = 100\n",
        "print(\"\\n복사본 수정 (원본 유지):\\n\", score_copy)\n",
        "print(\"\\n원본:\\n\", score)"
      ],
      "metadata": {
        "id": "3rh9obqzmQsm",
        "colab": {
          "base_uri": "https://localhost:8080/"
        },
        "outputId": "4638de48-36b0-4dde-dcc9-5e0123403d51"
      },
      "execution_count": null,
      "outputs": [
        {
          "output_type": "stream",
          "name": "stdout",
          "text": [
            "최종 성적 시리즈:\n",
            " KOR     75\n",
            "ENG     70\n",
            "MATH    85\n",
            "PHY     50\n",
            "dtype: int64\n",
            "\n",
            "복사본 수정 (원본 유지):\n",
            " KOR     100\n",
            "ENG      70\n",
            "MATH     85\n",
            "PHY      50\n",
            "dtype: int64\n",
            "\n",
            "원본:\n",
            " KOR     75\n",
            "ENG     70\n",
            "MATH    85\n",
            "PHY     50\n",
            "dtype: int64\n"
          ]
        }
      ]
    },
    {
      "cell_type": "markdown",
      "source": [
        "# 🔹 생각해 보기\n",
        "1. 여름(6~8월) 평균 기온을 구하시오.  \n",
        "2. 겨울(12, 1, 2월) 최저 기온을 구하시오.  \n",
        "3. 성적 데이터에서 평균 이상 점수의 과목만 추출하시오."
      ],
      "metadata": {
        "id": "k0NqQi-wmTHU"
      }
    },
    {
      "cell_type": "code",
      "source": [
        "# 1번 답안\n",
        "\n",
        "summer_1 = temp.iloc[5:8]\n",
        "print(summer_1)\n",
        "print(summer_1.mean())"
      ],
      "metadata": {
        "id": "NZ0FJMp9I9UM",
        "colab": {
          "base_uri": "https://localhost:8080/"
        },
        "outputId": "9c0ce6b1-4a5f-485c-faf5-e59ceddcf1de"
      },
      "execution_count": null,
      "outputs": [
        {
          "output_type": "stream",
          "name": "stdout",
          "text": [
            "6월    22.4\n",
            "7월    25.9\n",
            "8월    25.3\n",
            "dtype: float64\n",
            "24.53333333333333\n"
          ]
        }
      ]
    },
    {
      "cell_type": "code",
      "source": [
        "# 2번 답안\n",
        "\n",
        "winter_1 = temp.loc[['12월', '1월', '2월']]\n",
        "print(winter_1)\n",
        "print(winter_1.min())"
      ],
      "metadata": {
        "colab": {
          "base_uri": "https://localhost:8080/"
        },
        "id": "3I-FyEqN7Y8U",
        "outputId": "665dc36d-0076-437a-e1c3-85b08f680ed4"
      },
      "execution_count": null,
      "outputs": [
        {
          "output_type": "stream",
          "name": "stdout",
          "text": [
            "12월   -1.4\n",
            "1월    -0.8\n",
            "2월    -0.1\n",
            "dtype: float64\n",
            "-1.4\n"
          ]
        }
      ]
    },
    {
      "cell_type": "code",
      "source": [
        "# 3번 답안\n",
        "\n",
        "score_1 = score.mean()\n",
        "score_2 = score[score >= score_1]\n",
        "print(score_2)"
      ],
      "metadata": {
        "id": "xDwTmKj3LNg9",
        "colab": {
          "base_uri": "https://localhost:8080/"
        },
        "outputId": "567de154-ae8a-498d-adbb-0eb7d3e820a1"
      },
      "execution_count": null,
      "outputs": [
        {
          "output_type": "stream",
          "name": "stdout",
          "text": [
            "KOR     75\n",
            "ENG     70\n",
            "MATH    85\n",
            "dtype: int64\n"
          ]
        }
      ]
    }
  ]
}